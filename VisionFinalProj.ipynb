{
  "nbformat": 4,
  "nbformat_minor": 0,
  "metadata": {
    "colab": {
      "name": "VisionFinalProj.ipynb",
      "private_outputs": true,
      "provenance": [],
      "collapsed_sections": [],
      "mount_file_id": "15LkZK0c8EydEBolND_tLbL8A1esfVmy1",
      "authorship_tag": "ABX9TyMBrYsZDWg8Nj9YbpM/2nnS",
      "include_colab_link": true
    },
    "kernelspec": {
      "display_name": "Python 3",
      "name": "python3"
    },
    "language_info": {
      "name": "python"
    },
    "accelerator": "GPU"
  },
  "cells": [
    {
      "cell_type": "markdown",
      "metadata": {
        "id": "view-in-github",
        "colab_type": "text"
      },
      "source": [
        "<a href=\"https://colab.research.google.com/github/maryamteimouri/football_player_detection/blob/main/VisionFinalProj.ipynb\" target=\"_parent\"><img src=\"https://colab.research.google.com/assets/colab-badge.svg\" alt=\"Open In Colab\"/></a>"
      ]
    },
    {
      "cell_type": "code",
      "metadata": {
        "id": "EmqAVlVVfr-j"
      },
      "source": [
        "%tensorflow_version 1.x\n",
        "import cv2\n",
        "import numpy as np\n",
        "import tensorflow as tf\n",
        "from PIL import Image\n",
        "\n",
        "from keras.datasets import mnist\n",
        "from keras.layers import Input ,Dense,Activation, Conv2D,AveragePooling2D,Flatten\n",
        "from keras.models import Model\n",
        "from keras.utils import to_categorical\n",
        "from keras.preprocessing.image import ImageDataGenerator\n",
        "\n",
        "from sklearn.model_selection import train_test_split\n",
        "import matplotlib.pyplot as plt\n",
        "get_ipython().magic(u'matplotlib inline')\n",
        "import matplotlib.pyplot as plt\n",
        "\n",
        "from tensorflow.keras import layers\n",
        "from google.colab.patches import cv2_imshow\n",
        "import os"
      ],
      "execution_count": null,
      "outputs": []
    },
    {
      "cell_type": "code",
      "metadata": {
        "id": "QUm7txI91FDp"
      },
      "source": [
        "def make_bird_eye_view(src):\n",
        "    \n",
        "    img_h = 750\n",
        "    img_w = 1050\n",
        "    \n",
        "    points1 = np.array([(25, 145),\n",
        "                        (1225, 89),\n",
        "                        (675, 200),\n",
        "                        (870, 780)]).astype(np.float32)\n",
        "    \n",
        "    points2 = np.array([(0,0),\n",
        "                        (img_w,0),\n",
        "                        (img_w/2,img_h/2),\n",
        "                        (img_w/2,img_h)]).astype(np.float32)\n",
        "    \n",
        "    H = cv2.getPerspectiveTransform(points1, points2)\n",
        "    src = np.append(np.asarray(src),1)\n",
        "    t = np.dot(H, src)\n",
        "    t = t / t[2]\n",
        "    return t\n",
        "  "
      ],
      "execution_count": null,
      "outputs": []
    },
    {
      "cell_type": "code",
      "metadata": {
        "id": "wta_e-ZZfxiI"
      },
      "source": [
        "def detect(frame,fgmask):\n",
        "    th = cv2.threshold(fgmask, 250, 255, cv2.THRESH_BINARY)[1]\n",
        "    dilated = cv2.dilate(th, cv2.getStructuringElement(cv2.MORPH_ELLIPSE, (1,1)), iterations = 2)\n",
        "    contours, hier = cv2.findContours(dilated, cv2.RETR_EXTERNAL, cv2.CHAIN_APPROX_SIMPLE)\n",
        "    \n",
        "    return contours"
      ],
      "execution_count": null,
      "outputs": []
    },
    {
      "cell_type": "code",
      "metadata": {
        "id": "1aIUoKB_nmC7"
      },
      "source": [
        "def load_data():\n",
        "  arr = os.listdir('/content/drive/MyDrive/Colab Notebooks/blue_resized')\n",
        "  arr2 = os.listdir('/content/drive/MyDrive/Colab Notebooks/red_resized')\n",
        "  train_y=np.array([])\n",
        "  train_x=np.array([[[]]])\n",
        "  for element in arr:\n",
        "    path='/content/drive/MyDrive/Colab Notebooks/blue_resized/'\n",
        "    path+=element\n",
        "    I1 = cv2.imread(path)\n",
        "    I1 = np.array(I1)\n",
        "    train_y = np.append(train_y, 1);\n",
        "    train_x = np.append(train_x,I1)\n",
        "  for element in arr2:\n",
        "    path='/content/drive/MyDrive/Colab Notebooks/red_resized/'\n",
        "    path+=element\n",
        "    I1 = np.array(I1)\n",
        "    train_y=np.append(train_y,0);\n",
        "    train_x=np.append(train_x,I1)\n",
        "\n",
        "  return train_x, train_y"
      ],
      "execution_count": null,
      "outputs": []
    },
    {
      "cell_type": "code",
      "metadata": {
        "id": "K7PvZIBTsMbm"
      },
      "source": [
        "def build_model(input_shape):\n",
        "  \n",
        "  x_input = Input(shape =input_shape,name = 'input')\n",
        "  x = Conv2D(filters = 16,kernel_size = (2,2), strides = 1, padding = 'valid',name = 'conv2')(x_input)\n",
        "  x = Activation('relu')(x)\n",
        "  x = AveragePooling2D(pool_size =2,strides = 2,name = 'pad2')(x)\n",
        "\n",
        "  x = Flatten()(x)\n",
        "\n",
        "  x = Dense(units = 120, name = 'fc_1')(x)\n",
        "\n",
        "  x = Activation('relu', name = 'relu_1')(x)\n",
        "\n",
        "  x = Dense(units = 84, name = 'fc_2')(x)\n",
        "  x = Activation('relu', name = 'relu_2')(x)\n",
        "\n",
        "\n",
        "  outputs = Dense(units = 2,name = 'softmax', activation='softmax')(x)\n",
        "  \n",
        "  model = Model(inputs = x_input, outputs = outputs)\n",
        "  model.summary()\n",
        "\n",
        "  return model"
      ],
      "execution_count": null,
      "outputs": []
    },
    {
      "cell_type": "code",
      "metadata": {
        "id": "0S593d4gp_eT"
      },
      "source": [
        "def train():\n",
        "  x_train, y_train = load_data()\n",
        "  x_train = x_train.reshape((-1,195,192,3))\n",
        "  x_train, x_test, y_train, y_test  = train_test_split(x_train, y_train , test_size=0.1, shuffle=True, random_state=5)\n",
        "  x_train = x_train.astype('float32')/255\n",
        "  x_test = x_test.astype('float32')/255\n",
        "  \n",
        "  x_test = x_test.reshape((-1,195,192,3))\n",
        "  y_train = to_categorical(y_train)\n",
        "  y_test = to_categorical(y_test)\n",
        "  model = build_model(input_shape=(195,192,3))\n",
        "  model.compile(optimizer = 'adam',loss = 'categorical_crossentropy' ,metrics = ['accuracy'])\n",
        "  datagen = ImageDataGenerator(\n",
        "          rotation_range=30,\n",
        "          width_shift_range=0.2,\n",
        "          height_shift_range=0.2,\n",
        "          zoom_range=0.2,\n",
        "          horizontal_flip=True,\n",
        "          fill_mode='nearest')\n",
        "  batch_size = 64\n",
        "\n",
        " \n",
        "  H = model.fit_generator(datagen.flow(x_train, y_train, batch_size=batch_size),\n",
        "  validation_data=(x_test, y_test),                       \n",
        "\tsteps_per_epoch=len(y_train) // batch_size, epochs=10)\n",
        "  return model, x_test, y_test\n"
      ],
      "execution_count": null,
      "outputs": []
    },
    {
      "cell_type": "code",
      "metadata": {
        "id": "UT-gKpbopisR"
      },
      "source": [
        "def test(mode, test_x, test_y):\n",
        "  sample = x_test[100]\n",
        "\n",
        "  sample_show = sample.reshape((200,200))\n",
        "  plt.figure(figsize=(3,3))\n",
        "  plt.imshow(sample_show , cmap='gray')\n",
        "  plt.show()\n",
        "  batch = np.expand_dims(sample, axis=0)\n",
        "  prediction = model.predict(batch)\n",
        "  print(np.argmax(prediction[0]))"
      ],
      "execution_count": null,
      "outputs": []
    },
    {
      "cell_type": "code",
      "metadata": {
        "id": "AkThnXq4rhHX"
      },
      "source": [
        "def clasify(image, model):\n",
        "  img_h = 200\n",
        "  img_w = 200\n",
        "  points2 = np.array([(0, 0),\n",
        "                    (img_w, 0),\n",
        "                    (0, img_h ),\n",
        "                    (img_w, img_h)]).astype(np.float32)\n",
        "\n",
        "  points1 = np.array([(0, 0),\n",
        "                      (image.shape[1], 0),\n",
        "                      (0, image.shape[0] ),\n",
        "                      (image.shape[1], image.shape[0])]).astype(np.float32)\n",
        "  H = cv2.getPerspectiveTransform(points1, points2)\n",
        "  image = cv2.warpPerspective(image, H, (img_w - 8, img_h - 5))\n",
        "  batch = np.expand_dims(image, axis=0)\n",
        "  prediction = model.predict(batch)\n",
        "  return np.argmax(prediction[0])\n"
      ],
      "execution_count": null,
      "outputs": []
    },
    {
      "cell_type": "code",
      "metadata": {
        "id": "5yKnJ9Mi2Mn-"
      },
      "source": [
        "def main():\n",
        "  fgbg = cv2.bgsegm.createBackgroundSubtractorMOG()\n",
        "  cap = cv2.VideoCapture('/content/drive/MyDrive/Colab Notebooks/output.h264')\n",
        "  patch = cv2.imread('/content/drive/MyDrive/Colab Notebooks/visionProjectFiles/2D_field.png')\n",
        "  patch_copy = patch.copy()\n",
        "  model, _, _ = train()\n",
        "  \n",
        "  while (cap.isOpened()):\n",
        "    ret, frame = cap.read()\n",
        "    fgmask = fgbg.apply(frame,5)\n",
        "    contours = detect(frame,fgmask)\n",
        "    patch = patch_copy.copy()\n",
        "    for c in contours:\n",
        "        if cv2.contourArea(c) > 100:\n",
        "            (x,y,w,h) = cv2.boundingRect(c)\n",
        "            cv2.rectangle(frame, (x,y), (x+w,y+h), (255,255,0), 2)\n",
        "            point = (x+int(w/2),y+h)\n",
        "            point = make_bird_eye_view(point)\n",
        "\n",
        "            cropped = frame[y + 2:y + h - 2, x + 2:x + w - 2]\n",
        "            team_class = clasify(cropped,model)\n",
        "\n",
        "            if team_class == 0:\n",
        "              cv2.circle(patch, (int(point[0]), int(point[1])), 1, (0, 0, 255), 10)\n",
        "            else:\n",
        "              cv2.circle(patch, (int(point[0]), int(point[1])), 1, (255, 0, 0), 10)\n",
        "                \n",
        "            cv2_imshow(frame)\n",
        "            cv2_imshow(patch)\n",
        "\n",
        "    if cv2. waitKey(1) & 0xFF == ord('q'):\n",
        "          break\n",
        "  cap.release()\n",
        "  cv2.destroyAllWindows()\n",
        "  return\n",
        "\n",
        "\n",
        "main()"
      ],
      "execution_count": null,
      "outputs": []
    }
  ]
}